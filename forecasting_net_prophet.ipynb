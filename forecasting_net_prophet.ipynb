{
  "cells": [
    {
      "cell_type": "markdown",
      "metadata": {
        "id": "lLcqr6BM12Ty"
      },
      "source": [
        "# Forecasting Net Prophet\n",
        "\n",
        "You’re a growth analyst at [MercadoLibre](http://investor.mercadolibre.com/about-us). With over 200 million users, MercadoLibre is the most popular e-commerce site in Latin America. You've been tasked with analyzing the company's financial and user data in clever ways to make the company grow. So, you want to find out if the ability to predict search traffic can translate into the ability to successfully trade the stock.\n",
        "\n",
        "The instructions for this Challenge are divided into four steps, as follows:\n",
        "\n",
        "* Step 1: Find unusual patterns in hourly Google search traffic\n",
        "\n",
        "* Step 2: Mine the search traffic data for seasonality\n",
        "\n",
        "* Step 3: Relate the search traffic to stock price patterns\n",
        "\n",
        "* Step 4: Create a time series model with Prophet\n",
        "\n",
        "The following subsections detail these steps."
      ]
    },
    {
      "cell_type": "markdown",
      "metadata": {
        "id": "zvLM4Muf12T6"
      },
      "source": [
        "## Install and import the required libraries and dependencies"
      ]
    },
    {
      "cell_type": "code",
      "execution_count": 1,
      "metadata": {
        "colab": {
          "base_uri": "https://localhost:8080/"
        },
        "id": "jETJBREQ16et",
        "outputId": "1c958649-b1b6-4ec3-a3b5-725ea5fead1d"
      },
      "outputs": [
        {
          "data": {
            "text/plain": [
              "' \\n!pip install prophet\\n'"
            ]
          },
          "execution_count": 1,
          "metadata": {},
          "output_type": "execute_result"
        }
      ],
      "source": [
        "# Install the required libraries\n",
        "\"\"\" \n",
        "!pip install prophet\n",
        "\"\"\""
      ]
    },
    {
      "cell_type": "code",
      "execution_count": 2,
      "metadata": {
        "id": "qnzrTQf512T7"
      },
      "outputs": [
        {
          "data": {
            "application/javascript": "(function(root) {\n  function now() {\n    return new Date();\n  }\n\n  var force = true;\n  var py_version = '3.4.1'.replace('rc', '-rc.').replace('.dev', '-dev.');\n  var reloading = false;\n  var Bokeh = root.Bokeh;\n\n  if (typeof (root._bokeh_timeout) === \"undefined\" || force) {\n    root._bokeh_timeout = Date.now() + 5000;\n    root._bokeh_failed_load = false;\n  }\n\n  function run_callbacks() {\n    try {\n      root._bokeh_onload_callbacks.forEach(function(callback) {\n        if (callback != null)\n          callback();\n      });\n    } finally {\n      delete root._bokeh_onload_callbacks;\n    }\n    console.debug(\"Bokeh: all callbacks have finished\");\n  }\n\n  function load_libs(css_urls, js_urls, js_modules, js_exports, callback) {\n    if (css_urls == null) css_urls = [];\n    if (js_urls == null) js_urls = [];\n    if (js_modules == null) js_modules = [];\n    if (js_exports == null) js_exports = {};\n\n    root._bokeh_onload_callbacks.push(callback);\n\n    if (root._bokeh_is_loading > 0) {\n      console.debug(\"Bokeh: BokehJS is being loaded, scheduling callback at\", now());\n      return null;\n    }\n    if (js_urls.length === 0 && js_modules.length === 0 && Object.keys(js_exports).length === 0) {\n      run_callbacks();\n      return null;\n    }\n    if (!reloading) {\n      console.debug(\"Bokeh: BokehJS not loaded, scheduling load and callback at\", now());\n    }\n\n    function on_load() {\n      root._bokeh_is_loading--;\n      if (root._bokeh_is_loading === 0) {\n        console.debug(\"Bokeh: all BokehJS libraries/stylesheets loaded\");\n        run_callbacks()\n      }\n    }\n    window._bokeh_on_load = on_load\n\n    function on_error() {\n      console.error(\"failed to load \" + url);\n    }\n\n    var skip = [];\n    if (window.requirejs) {\n      window.requirejs.config({'packages': {}, 'paths': {}, 'shim': {}});\n      root._bokeh_is_loading = css_urls.length + 0;\n    } else {\n      root._bokeh_is_loading = css_urls.length + js_urls.length + js_modules.length + Object.keys(js_exports).length;\n    }\n\n    var existing_stylesheets = []\n    var links = document.getElementsByTagName('link')\n    for (var i = 0; i < links.length; i++) {\n      var link = links[i]\n      if (link.href != null) {\n\texisting_stylesheets.push(link.href)\n      }\n    }\n    for (var i = 0; i < css_urls.length; i++) {\n      var url = css_urls[i];\n      if (existing_stylesheets.indexOf(url) !== -1) {\n\ton_load()\n\tcontinue;\n      }\n      const element = document.createElement(\"link\");\n      element.onload = on_load;\n      element.onerror = on_error;\n      element.rel = \"stylesheet\";\n      element.type = \"text/css\";\n      element.href = url;\n      console.debug(\"Bokeh: injecting link tag for BokehJS stylesheet: \", url);\n      document.body.appendChild(element);\n    }    var existing_scripts = []\n    var scripts = document.getElementsByTagName('script')\n    for (var i = 0; i < scripts.length; i++) {\n      var script = scripts[i]\n      if (script.src != null) {\n\texisting_scripts.push(script.src)\n      }\n    }\n    for (var i = 0; i < js_urls.length; i++) {\n      var url = js_urls[i];\n      if (skip.indexOf(url) !== -1 || existing_scripts.indexOf(url) !== -1) {\n\tif (!window.requirejs) {\n\t  on_load();\n\t}\n\tcontinue;\n      }\n      var element = document.createElement('script');\n      element.onload = on_load;\n      element.onerror = on_error;\n      element.async = false;\n      element.src = url;\n      console.debug(\"Bokeh: injecting script tag for BokehJS library: \", url);\n      document.head.appendChild(element);\n    }\n    for (var i = 0; i < js_modules.length; i++) {\n      var url = js_modules[i];\n      if (skip.indexOf(url) !== -1 || existing_scripts.indexOf(url) !== -1) {\n\tif (!window.requirejs) {\n\t  on_load();\n\t}\n\tcontinue;\n      }\n      var element = document.createElement('script');\n      element.onload = on_load;\n      element.onerror = on_error;\n      element.async = false;\n      element.src = url;\n      element.type = \"module\";\n      console.debug(\"Bokeh: injecting script tag for BokehJS library: \", url);\n      document.head.appendChild(element);\n    }\n    for (const name in js_exports) {\n      var url = js_exports[name];\n      if (skip.indexOf(url) >= 0 || root[name] != null) {\n\tif (!window.requirejs) {\n\t  on_load();\n\t}\n\tcontinue;\n      }\n      var element = document.createElement('script');\n      element.onerror = on_error;\n      element.async = false;\n      element.type = \"module\";\n      console.debug(\"Bokeh: injecting script tag for BokehJS library: \", url);\n      element.textContent = `\n      import ${name} from \"${url}\"\n      window.${name} = ${name}\n      window._bokeh_on_load()\n      `\n      document.head.appendChild(element);\n    }\n    if (!js_urls.length && !js_modules.length) {\n      on_load()\n    }\n  };\n\n  function inject_raw_css(css) {\n    const element = document.createElement(\"style\");\n    element.appendChild(document.createTextNode(css));\n    document.body.appendChild(element);\n  }\n\n  var js_urls = [\"https://cdn.bokeh.org/bokeh/release/bokeh-3.4.1.min.js\", \"https://cdn.bokeh.org/bokeh/release/bokeh-gl-3.4.1.min.js\", \"https://cdn.bokeh.org/bokeh/release/bokeh-widgets-3.4.1.min.js\", \"https://cdn.bokeh.org/bokeh/release/bokeh-tables-3.4.1.min.js\", \"https://cdn.holoviz.org/panel/1.4.4/dist/panel.min.js\"];\n  var js_modules = [];\n  var js_exports = {};\n  var css_urls = [];\n  var inline_js = [    function(Bokeh) {\n      Bokeh.set_log_level(\"info\");\n    },\nfunction(Bokeh) {} // ensure no trailing comma for IE\n  ];\n\n  function run_inline_js() {\n    if ((root.Bokeh !== undefined) || (force === true)) {\n      for (var i = 0; i < inline_js.length; i++) {\n\ttry {\n          inline_js[i].call(root, root.Bokeh);\n\t} catch(e) {\n\t  if (!reloading) {\n\t    throw e;\n\t  }\n\t}\n      }\n      // Cache old bokeh versions\n      if (Bokeh != undefined && !reloading) {\n\tvar NewBokeh = root.Bokeh;\n\tif (Bokeh.versions === undefined) {\n\t  Bokeh.versions = new Map();\n\t}\n\tif (NewBokeh.version !== Bokeh.version) {\n\t  Bokeh.versions.set(NewBokeh.version, NewBokeh)\n\t}\n\troot.Bokeh = Bokeh;\n      }} else if (Date.now() < root._bokeh_timeout) {\n      setTimeout(run_inline_js, 100);\n    } else if (!root._bokeh_failed_load) {\n      console.log(\"Bokeh: BokehJS failed to load within specified timeout.\");\n      root._bokeh_failed_load = true;\n    }\n    root._bokeh_is_initializing = false\n  }\n\n  function load_or_wait() {\n    // Implement a backoff loop that tries to ensure we do not load multiple\n    // versions of Bokeh and its dependencies at the same time.\n    // In recent versions we use the root._bokeh_is_initializing flag\n    // to determine whether there is an ongoing attempt to initialize\n    // bokeh, however for backward compatibility we also try to ensure\n    // that we do not start loading a newer (Panel>=1.0 and Bokeh>3) version\n    // before older versions are fully initialized.\n    if (root._bokeh_is_initializing && Date.now() > root._bokeh_timeout) {\n      root._bokeh_is_initializing = false;\n      root._bokeh_onload_callbacks = undefined;\n      console.log(\"Bokeh: BokehJS was loaded multiple times but one version failed to initialize.\");\n      load_or_wait();\n    } else if (root._bokeh_is_initializing || (typeof root._bokeh_is_initializing === \"undefined\" && root._bokeh_onload_callbacks !== undefined)) {\n      setTimeout(load_or_wait, 100);\n    } else {\n      root._bokeh_is_initializing = true\n      root._bokeh_onload_callbacks = []\n      var bokeh_loaded = Bokeh != null && (Bokeh.version === py_version || (Bokeh.versions !== undefined && Bokeh.versions.has(py_version)));\n      if (!reloading && !bokeh_loaded) {\n\troot.Bokeh = undefined;\n      }\n      load_libs(css_urls, js_urls, js_modules, js_exports, function() {\n\tconsole.debug(\"Bokeh: BokehJS plotting callback run at\", now());\n\trun_inline_js();\n      });\n    }\n  }\n  // Give older versions of the autoload script a head-start to ensure\n  // they initialize before we start loading newer version.\n  setTimeout(load_or_wait, 100)\n}(window));",
            "application/vnd.holoviews_load.v0+json": ""
          },
          "metadata": {},
          "output_type": "display_data"
        },
        {
          "data": {
            "application/javascript": "\nif ((window.PyViz === undefined) || (window.PyViz instanceof HTMLElement)) {\n  window.PyViz = {comms: {}, comm_status:{}, kernels:{}, receivers: {}, plot_index: []}\n}\n\n\n    function JupyterCommManager() {\n    }\n\n    JupyterCommManager.prototype.register_target = function(plot_id, comm_id, msg_handler) {\n      if (window.comm_manager || ((window.Jupyter !== undefined) && (Jupyter.notebook.kernel != null))) {\n        var comm_manager = window.comm_manager || Jupyter.notebook.kernel.comm_manager;\n        comm_manager.register_target(comm_id, function(comm) {\n          comm.on_msg(msg_handler);\n        });\n      } else if ((plot_id in window.PyViz.kernels) && (window.PyViz.kernels[plot_id])) {\n        window.PyViz.kernels[plot_id].registerCommTarget(comm_id, function(comm) {\n          comm.onMsg = msg_handler;\n        });\n      } else if (typeof google != 'undefined' && google.colab.kernel != null) {\n        google.colab.kernel.comms.registerTarget(comm_id, (comm) => {\n          var messages = comm.messages[Symbol.asyncIterator]();\n          function processIteratorResult(result) {\n            var message = result.value;\n            console.log(message)\n            var content = {data: message.data, comm_id};\n            var buffers = []\n            for (var buffer of message.buffers || []) {\n              buffers.push(new DataView(buffer))\n            }\n            var metadata = message.metadata || {};\n            var msg = {content, buffers, metadata}\n            msg_handler(msg);\n            return messages.next().then(processIteratorResult);\n          }\n          return messages.next().then(processIteratorResult);\n        })\n      }\n    }\n\n    JupyterCommManager.prototype.get_client_comm = function(plot_id, comm_id, msg_handler) {\n      if (comm_id in window.PyViz.comms) {\n        return window.PyViz.comms[comm_id];\n      } else if (window.comm_manager || ((window.Jupyter !== undefined) && (Jupyter.notebook.kernel != null))) {\n        var comm_manager = window.comm_manager || Jupyter.notebook.kernel.comm_manager;\n        var comm = comm_manager.new_comm(comm_id, {}, {}, {}, comm_id);\n        if (msg_handler) {\n          comm.on_msg(msg_handler);\n        }\n      } else if ((plot_id in window.PyViz.kernels) && (window.PyViz.kernels[plot_id])) {\n        var comm = window.PyViz.kernels[plot_id].connectToComm(comm_id);\n        comm.open();\n        if (msg_handler) {\n          comm.onMsg = msg_handler;\n        }\n      } else if (typeof google != 'undefined' && google.colab.kernel != null) {\n        var comm_promise = google.colab.kernel.comms.open(comm_id)\n        comm_promise.then((comm) => {\n          window.PyViz.comms[comm_id] = comm;\n          if (msg_handler) {\n            var messages = comm.messages[Symbol.asyncIterator]();\n            function processIteratorResult(result) {\n              var message = result.value;\n              var content = {data: message.data};\n              var metadata = message.metadata || {comm_id};\n              var msg = {content, metadata}\n              msg_handler(msg);\n              return messages.next().then(processIteratorResult);\n            }\n            return messages.next().then(processIteratorResult);\n          }\n        }) \n        var sendClosure = (data, metadata, buffers, disposeOnDone) => {\n          return comm_promise.then((comm) => {\n            comm.send(data, metadata, buffers, disposeOnDone);\n          });\n        };\n        var comm = {\n          send: sendClosure\n        };\n      }\n      window.PyViz.comms[comm_id] = comm;\n      return comm;\n    }\n    window.PyViz.comm_manager = new JupyterCommManager();\n    \n\n\nvar JS_MIME_TYPE = 'application/javascript';\nvar HTML_MIME_TYPE = 'text/html';\nvar EXEC_MIME_TYPE = 'application/vnd.holoviews_exec.v0+json';\nvar CLASS_NAME = 'output';\n\n/**\n * Render data to the DOM node\n */\nfunction render(props, node) {\n  var div = document.createElement(\"div\");\n  var script = document.createElement(\"script\");\n  node.appendChild(div);\n  node.appendChild(script);\n}\n\n/**\n * Handle when a new output is added\n */\nfunction handle_add_output(event, handle) {\n  var output_area = handle.output_area;\n  var output = handle.output;\n  if ((output.data == undefined) || (!output.data.hasOwnProperty(EXEC_MIME_TYPE))) {\n    return\n  }\n  var id = output.metadata[EXEC_MIME_TYPE][\"id\"];\n  var toinsert = output_area.element.find(\".\" + CLASS_NAME.split(' ')[0]);\n  if (id !== undefined) {\n    var nchildren = toinsert.length;\n    var html_node = toinsert[nchildren-1].children[0];\n    html_node.innerHTML = output.data[HTML_MIME_TYPE];\n    var scripts = [];\n    var nodelist = html_node.querySelectorAll(\"script\");\n    for (var i in nodelist) {\n      if (nodelist.hasOwnProperty(i)) {\n        scripts.push(nodelist[i])\n      }\n    }\n\n    scripts.forEach( function (oldScript) {\n      var newScript = document.createElement(\"script\");\n      var attrs = [];\n      var nodemap = oldScript.attributes;\n      for (var j in nodemap) {\n        if (nodemap.hasOwnProperty(j)) {\n          attrs.push(nodemap[j])\n        }\n      }\n      attrs.forEach(function(attr) { newScript.setAttribute(attr.name, attr.value) });\n      newScript.appendChild(document.createTextNode(oldScript.innerHTML));\n      oldScript.parentNode.replaceChild(newScript, oldScript);\n    });\n    if (JS_MIME_TYPE in output.data) {\n      toinsert[nchildren-1].children[1].textContent = output.data[JS_MIME_TYPE];\n    }\n    output_area._hv_plot_id = id;\n    if ((window.Bokeh !== undefined) && (id in Bokeh.index)) {\n      window.PyViz.plot_index[id] = Bokeh.index[id];\n    } else {\n      window.PyViz.plot_index[id] = null;\n    }\n  } else if (output.metadata[EXEC_MIME_TYPE][\"server_id\"] !== undefined) {\n    var bk_div = document.createElement(\"div\");\n    bk_div.innerHTML = output.data[HTML_MIME_TYPE];\n    var script_attrs = bk_div.children[0].attributes;\n    for (var i = 0; i < script_attrs.length; i++) {\n      toinsert[toinsert.length - 1].childNodes[1].setAttribute(script_attrs[i].name, script_attrs[i].value);\n    }\n    // store reference to server id on output_area\n    output_area._bokeh_server_id = output.metadata[EXEC_MIME_TYPE][\"server_id\"];\n  }\n}\n\n/**\n * Handle when an output is cleared or removed\n */\nfunction handle_clear_output(event, handle) {\n  var id = handle.cell.output_area._hv_plot_id;\n  var server_id = handle.cell.output_area._bokeh_server_id;\n  if (((id === undefined) || !(id in PyViz.plot_index)) && (server_id !== undefined)) { return; }\n  var comm = window.PyViz.comm_manager.get_client_comm(\"hv-extension-comm\", \"hv-extension-comm\", function () {});\n  if (server_id !== null) {\n    comm.send({event_type: 'server_delete', 'id': server_id});\n    return;\n  } else if (comm !== null) {\n    comm.send({event_type: 'delete', 'id': id});\n  }\n  delete PyViz.plot_index[id];\n  if ((window.Bokeh !== undefined) & (id in window.Bokeh.index)) {\n    var doc = window.Bokeh.index[id].model.document\n    doc.clear();\n    const i = window.Bokeh.documents.indexOf(doc);\n    if (i > -1) {\n      window.Bokeh.documents.splice(i, 1);\n    }\n  }\n}\n\n/**\n * Handle kernel restart event\n */\nfunction handle_kernel_cleanup(event, handle) {\n  delete PyViz.comms[\"hv-extension-comm\"];\n  window.PyViz.plot_index = {}\n}\n\n/**\n * Handle update_display_data messages\n */\nfunction handle_update_output(event, handle) {\n  handle_clear_output(event, {cell: {output_area: handle.output_area}})\n  handle_add_output(event, handle)\n}\n\nfunction register_renderer(events, OutputArea) {\n  function append_mime(data, metadata, element) {\n    // create a DOM node to render to\n    var toinsert = this.create_output_subarea(\n    metadata,\n    CLASS_NAME,\n    EXEC_MIME_TYPE\n    );\n    this.keyboard_manager.register_events(toinsert);\n    // Render to node\n    var props = {data: data, metadata: metadata[EXEC_MIME_TYPE]};\n    render(props, toinsert[0]);\n    element.append(toinsert);\n    return toinsert\n  }\n\n  events.on('output_added.OutputArea', handle_add_output);\n  events.on('output_updated.OutputArea', handle_update_output);\n  events.on('clear_output.CodeCell', handle_clear_output);\n  events.on('delete.Cell', handle_clear_output);\n  events.on('kernel_ready.Kernel', handle_kernel_cleanup);\n\n  OutputArea.prototype.register_mime_type(EXEC_MIME_TYPE, append_mime, {\n    safe: true,\n    index: 0\n  });\n}\n\nif (window.Jupyter !== undefined) {\n  try {\n    var events = require('base/js/events');\n    var OutputArea = require('notebook/js/outputarea').OutputArea;\n    if (OutputArea.prototype.mime_types().indexOf(EXEC_MIME_TYPE) == -1) {\n      register_renderer(events, OutputArea);\n    }\n  } catch(err) {\n  }\n}\n",
            "application/vnd.holoviews_load.v0+json": ""
          },
          "metadata": {},
          "output_type": "display_data"
        },
        {
          "data": {
            "text/html": [
              "<style>*[data-root-id],\n",
              "*[data-root-id] > * {\n",
              "  box-sizing: border-box;\n",
              "  font-family: var(--jp-ui-font-family);\n",
              "  font-size: var(--jp-ui-font-size1);\n",
              "  color: var(--vscode-editor-foreground, var(--jp-ui-font-color1));\n",
              "}\n",
              "\n",
              "/* Override VSCode background color */\n",
              ".cell-output-ipywidget-background:has(\n",
              "    > .cell-output-ipywidget-background > .lm-Widget > *[data-root-id]\n",
              "  ),\n",
              ".cell-output-ipywidget-background:has(> .lm-Widget > *[data-root-id]) {\n",
              "  background-color: transparent !important;\n",
              "}\n",
              "</style>"
            ]
          },
          "metadata": {},
          "output_type": "display_data"
        },
        {
          "data": {
            "application/vnd.holoviews_exec.v0+json": "",
            "text/html": [
              "<div id='p1002'>\n",
              "  <div id=\"a6e6e0e0-a26c-40a0-89b6-c531c04fec5a\" data-root-id=\"p1002\" style=\"display: contents;\"></div>\n",
              "</div>\n",
              "<script type=\"application/javascript\">(function(root) {\n",
              "  var docs_json = {\"74ebd5c0-a2ea-4bb7-b6a7-58e2b06fdd9c\":{\"version\":\"3.4.1\",\"title\":\"Bokeh Application\",\"roots\":[{\"type\":\"object\",\"name\":\"panel.models.browser.BrowserInfo\",\"id\":\"p1002\"},{\"type\":\"object\",\"name\":\"panel.models.comm_manager.CommManager\",\"id\":\"p1003\",\"attributes\":{\"plot_id\":\"p1002\",\"comm_id\":\"f0b47214080b495dbcbcbb5a3d32b84a\",\"client_comm_id\":\"142d40c95ff04b6ab6c5794e35ca439f\"}}],\"defs\":[{\"type\":\"model\",\"name\":\"ReactiveHTML1\"},{\"type\":\"model\",\"name\":\"FlexBox1\",\"properties\":[{\"name\":\"align_content\",\"kind\":\"Any\",\"default\":\"flex-start\"},{\"name\":\"align_items\",\"kind\":\"Any\",\"default\":\"flex-start\"},{\"name\":\"flex_direction\",\"kind\":\"Any\",\"default\":\"row\"},{\"name\":\"flex_wrap\",\"kind\":\"Any\",\"default\":\"wrap\"},{\"name\":\"gap\",\"kind\":\"Any\",\"default\":\"\"},{\"name\":\"justify_content\",\"kind\":\"Any\",\"default\":\"flex-start\"}]},{\"type\":\"model\",\"name\":\"FloatPanel1\",\"properties\":[{\"name\":\"config\",\"kind\":\"Any\",\"default\":{\"type\":\"map\"}},{\"name\":\"contained\",\"kind\":\"Any\",\"default\":true},{\"name\":\"position\",\"kind\":\"Any\",\"default\":\"right-top\"},{\"name\":\"offsetx\",\"kind\":\"Any\",\"default\":null},{\"name\":\"offsety\",\"kind\":\"Any\",\"default\":null},{\"name\":\"theme\",\"kind\":\"Any\",\"default\":\"primary\"},{\"name\":\"status\",\"kind\":\"Any\",\"default\":\"normalized\"}]},{\"type\":\"model\",\"name\":\"GridStack1\",\"properties\":[{\"name\":\"mode\",\"kind\":\"Any\",\"default\":\"warn\"},{\"name\":\"ncols\",\"kind\":\"Any\",\"default\":null},{\"name\":\"nrows\",\"kind\":\"Any\",\"default\":null},{\"name\":\"allow_resize\",\"kind\":\"Any\",\"default\":true},{\"name\":\"allow_drag\",\"kind\":\"Any\",\"default\":true},{\"name\":\"state\",\"kind\":\"Any\",\"default\":[]}]},{\"type\":\"model\",\"name\":\"drag1\",\"properties\":[{\"name\":\"slider_width\",\"kind\":\"Any\",\"default\":5},{\"name\":\"slider_color\",\"kind\":\"Any\",\"default\":\"black\"},{\"name\":\"value\",\"kind\":\"Any\",\"default\":50}]},{\"type\":\"model\",\"name\":\"click1\",\"properties\":[{\"name\":\"terminal_output\",\"kind\":\"Any\",\"default\":\"\"},{\"name\":\"debug_name\",\"kind\":\"Any\",\"default\":\"\"},{\"name\":\"clears\",\"kind\":\"Any\",\"default\":0}]},{\"type\":\"model\",\"name\":\"FastWrapper1\",\"properties\":[{\"name\":\"object\",\"kind\":\"Any\",\"default\":null},{\"name\":\"style\",\"kind\":\"Any\",\"default\":null}]},{\"type\":\"model\",\"name\":\"NotificationAreaBase1\",\"properties\":[{\"name\":\"js_events\",\"kind\":\"Any\",\"default\":{\"type\":\"map\"}},{\"name\":\"position\",\"kind\":\"Any\",\"default\":\"bottom-right\"},{\"name\":\"_clear\",\"kind\":\"Any\",\"default\":0}]},{\"type\":\"model\",\"name\":\"NotificationArea1\",\"properties\":[{\"name\":\"js_events\",\"kind\":\"Any\",\"default\":{\"type\":\"map\"}},{\"name\":\"notifications\",\"kind\":\"Any\",\"default\":[]},{\"name\":\"position\",\"kind\":\"Any\",\"default\":\"bottom-right\"},{\"name\":\"_clear\",\"kind\":\"Any\",\"default\":0},{\"name\":\"types\",\"kind\":\"Any\",\"default\":[{\"type\":\"map\",\"entries\":[[\"type\",\"warning\"],[\"background\",\"#ffc107\"],[\"icon\",{\"type\":\"map\",\"entries\":[[\"className\",\"fas fa-exclamation-triangle\"],[\"tagName\",\"i\"],[\"color\",\"white\"]]}]]},{\"type\":\"map\",\"entries\":[[\"type\",\"info\"],[\"background\",\"#007bff\"],[\"icon\",{\"type\":\"map\",\"entries\":[[\"className\",\"fas fa-info-circle\"],[\"tagName\",\"i\"],[\"color\",\"white\"]]}]]}]}]},{\"type\":\"model\",\"name\":\"Notification\",\"properties\":[{\"name\":\"background\",\"kind\":\"Any\",\"default\":null},{\"name\":\"duration\",\"kind\":\"Any\",\"default\":3000},{\"name\":\"icon\",\"kind\":\"Any\",\"default\":null},{\"name\":\"message\",\"kind\":\"Any\",\"default\":\"\"},{\"name\":\"notification_type\",\"kind\":\"Any\",\"default\":null},{\"name\":\"_destroyed\",\"kind\":\"Any\",\"default\":false}]},{\"type\":\"model\",\"name\":\"TemplateActions1\",\"properties\":[{\"name\":\"open_modal\",\"kind\":\"Any\",\"default\":0},{\"name\":\"close_modal\",\"kind\":\"Any\",\"default\":0}]},{\"type\":\"model\",\"name\":\"BootstrapTemplateActions1\",\"properties\":[{\"name\":\"open_modal\",\"kind\":\"Any\",\"default\":0},{\"name\":\"close_modal\",\"kind\":\"Any\",\"default\":0}]},{\"type\":\"model\",\"name\":\"TemplateEditor1\",\"properties\":[{\"name\":\"layout\",\"kind\":\"Any\",\"default\":[]}]},{\"type\":\"model\",\"name\":\"MaterialTemplateActions1\",\"properties\":[{\"name\":\"open_modal\",\"kind\":\"Any\",\"default\":0},{\"name\":\"close_modal\",\"kind\":\"Any\",\"default\":0}]},{\"type\":\"model\",\"name\":\"copy_to_clipboard1\",\"properties\":[{\"name\":\"fill\",\"kind\":\"Any\",\"default\":\"none\"},{\"name\":\"value\",\"kind\":\"Any\",\"default\":null}]}]}};\n",
              "  var render_items = [{\"docid\":\"74ebd5c0-a2ea-4bb7-b6a7-58e2b06fdd9c\",\"roots\":{\"p1002\":\"a6e6e0e0-a26c-40a0-89b6-c531c04fec5a\"},\"root_ids\":[\"p1002\"]}];\n",
              "  var docs = Object.values(docs_json)\n",
              "  if (!docs) {\n",
              "    return\n",
              "  }\n",
              "  const py_version = docs[0].version.replace('rc', '-rc.').replace('.dev', '-dev.')\n",
              "  async function embed_document(root) {\n",
              "    var Bokeh = get_bokeh(root)\n",
              "    await Bokeh.embed.embed_items_notebook(docs_json, render_items);\n",
              "    for (const render_item of render_items) {\n",
              "      for (const root_id of render_item.root_ids) {\n",
              "\tconst id_el = document.getElementById(root_id)\n",
              "\tif (id_el.children.length && id_el.children[0].hasAttribute('data-root-id')) {\n",
              "\t  const root_el = id_el.children[0]\n",
              "\t  root_el.id = root_el.id + '-rendered'\n",
              "\t  for (const child of root_el.children) {\n",
              "            // Ensure JupyterLab does not capture keyboard shortcuts\n",
              "            // see: https://jupyterlab.readthedocs.io/en/4.1.x/extension/notebook.html#keyboard-interaction-model\n",
              "\t    child.setAttribute('data-lm-suppress-shortcuts', 'true')\n",
              "\t  }\n",
              "\t}\n",
              "      }\n",
              "    }\n",
              "  }\n",
              "  function get_bokeh(root) {\n",
              "    if (root.Bokeh === undefined) {\n",
              "      return null\n",
              "    } else if (root.Bokeh.version !== py_version) {\n",
              "      if (root.Bokeh.versions === undefined || !root.Bokeh.versions.has(py_version)) {\n",
              "\treturn null\n",
              "      }\n",
              "      return root.Bokeh.versions.get(py_version);\n",
              "    } else if (root.Bokeh.version === py_version) {\n",
              "      return root.Bokeh\n",
              "    }\n",
              "    return null\n",
              "  }\n",
              "  function is_loaded(root) {\n",
              "    var Bokeh = get_bokeh(root)\n",
              "    return (Bokeh != null && Bokeh.Panel !== undefined)\n",
              "  }\n",
              "  if (is_loaded(root)) {\n",
              "    embed_document(root);\n",
              "  } else {\n",
              "    var attempts = 0;\n",
              "    var timer = setInterval(function(root) {\n",
              "      if (is_loaded(root)) {\n",
              "        clearInterval(timer);\n",
              "        embed_document(root);\n",
              "      } else if (document.readyState == \"complete\") {\n",
              "        attempts++;\n",
              "        if (attempts > 200) {\n",
              "          clearInterval(timer);\n",
              "\t  var Bokeh = get_bokeh(root)\n",
              "\t  if (Bokeh == null || Bokeh.Panel == null) {\n",
              "            console.warn(\"Panel: ERROR: Unable to run Panel code because Bokeh or Panel library is missing\");\n",
              "\t  } else {\n",
              "\t    console.warn(\"Panel: WARNING: Attempting to render but not all required libraries could be resolved.\")\n",
              "\t    embed_document(root)\n",
              "\t  }\n",
              "        }\n",
              "      }\n",
              "    }, 25, root)\n",
              "  }\n",
              "})(window);</script>"
            ]
          },
          "metadata": {
            "application/vnd.holoviews_exec.v0+json": {
              "id": "p1002"
            }
          },
          "output_type": "display_data"
        }
      ],
      "source": [
        "# Import the required libraries and dependencies\n",
        "from IPython.display import clear_output\n",
        "from prophet import Prophet\n",
        "import datetime as dt\n",
        "import pandas as pd\n",
        "import hvplot.pandas\n",
        "import numpy as np\n",
        "\n",
        "%matplotlib inline"
      ]
    },
    {
      "cell_type": "markdown",
      "metadata": {
        "id": "lNPLnTzk12T-"
      },
      "source": [
        "## Step 1: Find Unusual Patterns in Hourly Google Search Traffic\n",
        "\n",
        "The data science manager asks if the Google search traffic for the company links to any financial events at the company. Or, does the search traffic data just present random noise? To answer this question, pick out any unusual patterns in the Google search data for the company, and connect them to the corporate financial events.\n",
        "\n",
        "To do so, complete the following steps:\n",
        "\n",
        "1. Read the search data into a DataFrame, and then slice the data to just the month of May 2020. (During this month, MercadoLibre released its quarterly financial results.) Visualize the results. Do any unusual patterns exist?\n",
        "\n",
        "2. Calculate the total search traffic for the month, and then compare the value to the monthly median across all months. Did the Google search traffic increase during the month that MercadoLibre released its financial results?\n"
      ]
    },
    {
      "cell_type": "markdown",
      "metadata": {
        "id": "VgT_j6J412T-"
      },
      "source": [
        "#### Step 1: Read the search data into a DataFrame, and then slice the data to just the month of May 2020. (During this month, MercadoLibre released its quarterly financial results.) Visualize the results. Do any unusual patterns exist?"
      ]
    },
    {
      "cell_type": "code",
      "execution_count": 3,
      "metadata": {
        "colab": {
          "base_uri": "https://localhost:8080/",
          "height": 513
        },
        "id": "cztyn4NK12T_",
        "outputId": "6c3fb277-069c-4fc1-df63-3631e9296d90"
      },
      "outputs": [
        {
          "name": "stdout",
          "output_type": "stream",
          "text": [
            "Shape: (37106, 1)\n"
          ]
        },
        {
          "data": {
            "text/html": [
              "<div>\n",
              "<style scoped>\n",
              "    .dataframe tbody tr th:only-of-type {\n",
              "        vertical-align: middle;\n",
              "    }\n",
              "\n",
              "    .dataframe tbody tr th {\n",
              "        vertical-align: top;\n",
              "    }\n",
              "\n",
              "    .dataframe thead th {\n",
              "        text-align: right;\n",
              "    }\n",
              "</style>\n",
              "<table border=\"1\" class=\"dataframe\">\n",
              "  <thead>\n",
              "    <tr style=\"text-align: right;\">\n",
              "      <th></th>\n",
              "      <th>Search Trends</th>\n",
              "    </tr>\n",
              "    <tr>\n",
              "      <th>Date</th>\n",
              "      <th></th>\n",
              "    </tr>\n",
              "  </thead>\n",
              "  <tbody>\n",
              "    <tr>\n",
              "      <th>2016-06-01 00:00:00</th>\n",
              "      <td>97</td>\n",
              "    </tr>\n",
              "    <tr>\n",
              "      <th>2016-06-01 01:00:00</th>\n",
              "      <td>92</td>\n",
              "    </tr>\n",
              "    <tr>\n",
              "      <th>2016-06-01 02:00:00</th>\n",
              "      <td>76</td>\n",
              "    </tr>\n",
              "    <tr>\n",
              "      <th>2016-06-01 03:00:00</th>\n",
              "      <td>60</td>\n",
              "    </tr>\n",
              "    <tr>\n",
              "      <th>2016-06-01 04:00:00</th>\n",
              "      <td>38</td>\n",
              "    </tr>\n",
              "  </tbody>\n",
              "</table>\n",
              "</div>"
            ],
            "text/plain": [
              "                     Search Trends\n",
              "Date                              \n",
              "2016-06-01 00:00:00             97\n",
              "2016-06-01 01:00:00             92\n",
              "2016-06-01 02:00:00             76\n",
              "2016-06-01 03:00:00             60\n",
              "2016-06-01 04:00:00             38"
            ]
          },
          "metadata": {},
          "output_type": "display_data"
        },
        {
          "data": {
            "text/html": [
              "<div>\n",
              "<style scoped>\n",
              "    .dataframe tbody tr th:only-of-type {\n",
              "        vertical-align: middle;\n",
              "    }\n",
              "\n",
              "    .dataframe tbody tr th {\n",
              "        vertical-align: top;\n",
              "    }\n",
              "\n",
              "    .dataframe thead th {\n",
              "        text-align: right;\n",
              "    }\n",
              "</style>\n",
              "<table border=\"1\" class=\"dataframe\">\n",
              "  <thead>\n",
              "    <tr style=\"text-align: right;\">\n",
              "      <th></th>\n",
              "      <th>Search Trends</th>\n",
              "    </tr>\n",
              "    <tr>\n",
              "      <th>Date</th>\n",
              "      <th></th>\n",
              "    </tr>\n",
              "  </thead>\n",
              "  <tbody>\n",
              "    <tr>\n",
              "      <th>2020-09-07 20:00:00</th>\n",
              "      <td>71</td>\n",
              "    </tr>\n",
              "    <tr>\n",
              "      <th>2020-09-07 21:00:00</th>\n",
              "      <td>83</td>\n",
              "    </tr>\n",
              "    <tr>\n",
              "      <th>2020-09-07 22:00:00</th>\n",
              "      <td>96</td>\n",
              "    </tr>\n",
              "    <tr>\n",
              "      <th>2020-09-07 23:00:00</th>\n",
              "      <td>97</td>\n",
              "    </tr>\n",
              "    <tr>\n",
              "      <th>2020-09-08 00:00:00</th>\n",
              "      <td>96</td>\n",
              "    </tr>\n",
              "  </tbody>\n",
              "</table>\n",
              "</div>"
            ],
            "text/plain": [
              "                     Search Trends\n",
              "Date                              \n",
              "2020-09-07 20:00:00             71\n",
              "2020-09-07 21:00:00             83\n",
              "2020-09-07 22:00:00             96\n",
              "2020-09-07 23:00:00             97\n",
              "2020-09-08 00:00:00             96"
            ]
          },
          "metadata": {},
          "output_type": "display_data"
        }
      ],
      "source": [
        "# Store the data in a Pandas DataFrame\n",
        "# Set the \"Date\" column as the Datetime Index.\n",
        "\n",
        "df_mercado_trends = pd.read_csv(\n",
        "    \"https://static.bc-edx.com/ai/ail-v-1-0/m8/lms/datasets/google_hourly_search_trends.csv\",\n",
        "    index_col='Date',\n",
        "    parse_dates=True,\n",
        "    date_format='%m/%d/%y %H:%M'\n",
        ").dropna()\n",
        "\n",
        "# Review the first and last five rows of the DataFrame\n",
        "print(\"Shape:\", df_mercado_trends.shape)\n",
        "display(df_mercado_trends.head())\n",
        "display(df_mercado_trends.tail())"
      ]
    },
    {
      "cell_type": "code",
      "execution_count": 4,
      "metadata": {
        "colab": {
          "base_uri": "https://localhost:8080/"
        },
        "id": "sfm0FSiF12T_",
        "outputId": "92a26252-48dd-49dc-8e89-99bbb3e268c3"
      },
      "outputs": [
        {
          "name": "stdout",
          "output_type": "stream",
          "text": [
            "<class 'pandas.core.frame.DataFrame'>\n",
            "DatetimeIndex: 37106 entries, 2016-06-01 00:00:00 to 2020-09-08 00:00:00\n",
            "Data columns (total 1 columns):\n",
            " #   Column         Non-Null Count  Dtype\n",
            "---  ------         --------------  -----\n",
            " 0   Search Trends  37106 non-null  int64\n",
            "dtypes: int64(1)\n",
            "memory usage: 579.8 KB\n"
          ]
        }
      ],
      "source": [
        "# Review the data types of the DataFrame using the info function\n",
        "df_mercado_trends.info()"
      ]
    },
    {
      "cell_type": "code",
      "execution_count": 5,
      "metadata": {
        "colab": {
          "base_uri": "https://localhost:8080/",
          "height": 515
        },
        "id": "3HSQMhNK12T_",
        "outputId": "bcc5ae20-83ee-44d9-abc1-e53577998c54"
      },
      "outputs": [
        {
          "data": {},
          "metadata": {},
          "output_type": "display_data"
        },
        {
          "data": {
            "application/vnd.holoviews_exec.v0+json": "",
            "text/html": [
              "<div id='p1004'>\n",
              "  <div id=\"c8b2841e-0cae-4701-89ec-3a2eaceaf378\" data-root-id=\"p1004\" style=\"display: contents;\"></div>\n",
              "</div>\n",
              "<script type=\"application/javascript\">(function(root) {\n",
              "  var docs_json = {\"9a1a2bd9-5023-433a-9303-48a608eed219\":{\"version\":\"3.4.1\",\"title\":\"Bokeh Application\",\"roots\":[{\"type\":\"object\",\"name\":\"Row\",\"id\":\"p1004\",\"attributes\":{\"name\":\"Row00938\",\"tags\":[\"embedded\"],\"stylesheets\":[\"\\n:host(.pn-loading):before, .pn-loading:before {\\n  background-color: #c3c3c3;\\n  mask-size: auto calc(min(50%, 400px));\\n  -webkit-mask-size: auto calc(min(50%, 400px));\\n}\",{\"type\":\"object\",\"name\":\"ImportedStyleSheet\",\"id\":\"p1007\",\"attributes\":{\"url\":\"https://cdn.holoviz.org/panel/1.4.4/dist/css/loading.css\"}},{\"type\":\"object\",\"name\":\"ImportedStyleSheet\",\"id\":\"p1075\",\"attributes\":{\"url\":\"https://cdn.holoviz.org/panel/1.4.4/dist/css/listpanel.css\"}},{\"type\":\"object\",\"name\":\"ImportedStyleSheet\",\"id\":\"p1005\",\"attributes\":{\"url\":\"https://cdn.holoviz.org/panel/1.4.4/dist/bundled/theme/default.css\"}},{\"type\":\"object\",\"name\":\"ImportedStyleSheet\",\"id\":\"p1006\",\"attributes\":{\"url\":\"https://cdn.holoviz.org/panel/1.4.4/dist/bundled/theme/native.css\"}}],\"min_width\":1500,\"margin\":0,\"sizing_mode\":\"stretch_width\",\"align\":\"start\",\"children\":[{\"type\":\"object\",\"name\":\"Spacer\",\"id\":\"p1008\",\"attributes\":{\"name\":\"HSpacer00945\",\"stylesheets\":[\"\\n:host(.pn-loading):before, .pn-loading:before {\\n  background-color: #c3c3c3;\\n  mask-size: auto calc(min(50%, 400px));\\n  -webkit-mask-size: auto calc(min(50%, 400px));\\n}\",{\"id\":\"p1007\"},{\"id\":\"p1005\"},{\"id\":\"p1006\"}],\"margin\":0,\"sizing_mode\":\"stretch_width\",\"align\":\"start\"}},{\"type\":\"object\",\"name\":\"Figure\",\"id\":\"p1016\",\"attributes\":{\"width\":1500,\"height\":500,\"margin\":[5,10],\"sizing_mode\":\"fixed\",\"align\":\"start\",\"x_range\":{\"type\":\"object\",\"name\":\"Range1d\",\"id\":\"p1009\",\"attributes\":{\"tags\":[[[\"Date\",null]],[]],\"start\":1588291200000.0,\"end\":1590966000000.0,\"reset_start\":1588291200000.0,\"reset_end\":1590966000000.0}},\"y_range\":{\"type\":\"object\",\"name\":\"Range1d\",\"id\":\"p1010\",\"attributes\":{\"tags\":[[[\"Search Trends\",null]],{\"type\":\"map\",\"entries\":[[\"invert_yaxis\",false],[\"autorange\",false]]}],\"start\":-5.9,\"end\":136.9,\"reset_start\":-5.9,\"reset_end\":136.9}},\"x_scale\":{\"type\":\"object\",\"name\":\"LinearScale\",\"id\":\"p1026\"},\"y_scale\":{\"type\":\"object\",\"name\":\"LinearScale\",\"id\":\"p1027\"},\"title\":{\"type\":\"object\",\"name\":\"Title\",\"id\":\"p1019\",\"attributes\":{\"text\":\"Google Hourly Search Trends for May 2020\",\"text_color\":\"black\",\"text_font_size\":\"12pt\"}},\"renderers\":[{\"type\":\"object\",\"name\":\"GlyphRenderer\",\"id\":\"p1068\",\"attributes\":{\"data_source\":{\"type\":\"object\",\"name\":\"ColumnDataSource\",\"id\":\"p1059\",\"attributes\":{\"selected\":{\"type\":\"object\",\"name\":\"Selection\",\"id\":\"p1060\",\"attributes\":{\"indices\":[],\"line_indices\":[]}},\"selection_policy\":{\"type\":\"object\",\"name\":\"UnionRenderers\",\"id\":\"p1061\"},\"data\":{\"type\":\"map\",\"entries\":[[\"Date\",{\"type\":\"ndarray\",\"array\":{\"type\":\"bytes\",\"data\":\"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\"},\"shape\":[744],\"dtype\":\"float64\",\"order\":\"little\"}],[\"Search Trends\",{\"type\":\"ndarray\",\"array\":{\"type\":\"bytes\",\"data\":\"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\"},\"shape\":[744],\"dtype\":\"int32\",\"order\":\"little\"}],[\"Search_Trends\",{\"type\":\"ndarray\",\"array\":{\"type\":\"bytes\",\"data\":\"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\"},\"shape\":[744],\"dtype\":\"int32\",\"order\":\"little\"}]]}}},\"view\":{\"type\":\"object\",\"name\":\"CDSView\",\"id\":\"p1069\",\"attributes\":{\"filter\":{\"type\":\"object\",\"name\":\"AllIndices\",\"id\":\"p1070\"}}},\"glyph\":{\"type\":\"object\",\"name\":\"Line\",\"id\":\"p1065\",\"attributes\":{\"tags\":[\"apply_ranges\"],\"x\":{\"type\":\"field\",\"field\":\"Date\"},\"y\":{\"type\":\"field\",\"field\":\"Search Trends\"},\"line_color\":\"#30a2da\",\"line_width\":2}},\"selection_glyph\":{\"type\":\"object\",\"name\":\"Line\",\"id\":\"p1071\",\"attributes\":{\"tags\":[\"apply_ranges\"],\"x\":{\"type\":\"field\",\"field\":\"Date\"},\"y\":{\"type\":\"field\",\"field\":\"Search Trends\"},\"line_color\":\"#30a2da\",\"line_width\":2}},\"nonselection_glyph\":{\"type\":\"object\",\"name\":\"Line\",\"id\":\"p1066\",\"attributes\":{\"tags\":[\"apply_ranges\"],\"x\":{\"type\":\"field\",\"field\":\"Date\"},\"y\":{\"type\":\"field\",\"field\":\"Search Trends\"},\"line_color\":\"#30a2da\",\"line_alpha\":0.1,\"line_width\":2}},\"muted_glyph\":{\"type\":\"object\",\"name\":\"Line\",\"id\":\"p1067\",\"attributes\":{\"tags\":[\"apply_ranges\"],\"x\":{\"type\":\"field\",\"field\":\"Date\"},\"y\":{\"type\":\"field\",\"field\":\"Search Trends\"},\"line_color\":\"#30a2da\",\"line_alpha\":0.2,\"line_width\":2}}}}],\"toolbar\":{\"type\":\"object\",\"name\":\"Toolbar\",\"id\":\"p1025\",\"attributes\":{\"tools\":[{\"type\":\"object\",\"name\":\"WheelZoomTool\",\"id\":\"p1014\",\"attributes\":{\"tags\":[\"hv_created\"],\"renderers\":\"auto\",\"zoom_together\":\"none\"}},{\"type\":\"object\",\"name\":\"HoverTool\",\"id\":\"p1015\",\"attributes\":{\"tags\":[\"hv_created\"],\"renderers\":[{\"id\":\"p1068\"}],\"tooltips\":[[\"Date\",\"@{Date}{%F %T}\"],[\"Search Trends\",\"@{Search_Trends}\"]],\"formatters\":{\"type\":\"map\",\"entries\":[[\"@{Date}\",\"datetime\"]]}}},{\"type\":\"object\",\"name\":\"SaveTool\",\"id\":\"p1050\"},{\"type\":\"object\",\"name\":\"PanTool\",\"id\":\"p1051\"},{\"type\":\"object\",\"name\":\"BoxZoomTool\",\"id\":\"p1052\",\"attributes\":{\"overlay\":{\"type\":\"object\",\"name\":\"BoxAnnotation\",\"id\":\"p1053\",\"attributes\":{\"syncable\":false,\"level\":\"overlay\",\"visible\":false,\"left\":{\"type\":\"number\",\"value\":\"nan\"},\"right\":{\"type\":\"number\",\"value\":\"nan\"},\"top\":{\"type\":\"number\",\"value\":\"nan\"},\"bottom\":{\"type\":\"number\",\"value\":\"nan\"},\"left_units\":\"canvas\",\"right_units\":\"canvas\",\"top_units\":\"canvas\",\"bottom_units\":\"canvas\",\"line_color\":\"black\",\"line_alpha\":1.0,\"line_width\":2,\"line_dash\":[4,4],\"fill_color\":\"lightgrey\",\"fill_alpha\":0.5}}}},{\"type\":\"object\",\"name\":\"ResetTool\",\"id\":\"p1058\"}],\"active_drag\":{\"id\":\"p1051\"},\"active_scroll\":{\"id\":\"p1014\"}}},\"left\":[{\"type\":\"object\",\"name\":\"LinearAxis\",\"id\":\"p1045\",\"attributes\":{\"ticker\":{\"type\":\"object\",\"name\":\"BasicTicker\",\"id\":\"p1046\",\"attributes\":{\"mantissas\":[1,2,5]}},\"formatter\":{\"type\":\"object\",\"name\":\"BasicTickFormatter\",\"id\":\"p1047\"},\"axis_label\":\"Search Trend\",\"major_label_policy\":{\"type\":\"object\",\"name\":\"AllLabels\",\"id\":\"p1048\"}}}],\"below\":[{\"type\":\"object\",\"name\":\"DatetimeAxis\",\"id\":\"p1028\",\"attributes\":{\"ticker\":{\"type\":\"object\",\"name\":\"DatetimeTicker\",\"id\":\"p1029\",\"attributes\":{\"num_minor_ticks\":5,\"tickers\":[{\"type\":\"object\",\"name\":\"AdaptiveTicker\",\"id\":\"p1030\",\"attributes\":{\"num_minor_ticks\":0,\"mantissas\":[1,2,5],\"max_interval\":500.0}},{\"type\":\"object\",\"name\":\"AdaptiveTicker\",\"id\":\"p1031\",\"attributes\":{\"num_minor_ticks\":0,\"base\":60,\"mantissas\":[1,2,5,10,15,20,30],\"min_interval\":1000.0,\"max_interval\":1800000.0}},{\"type\":\"object\",\"name\":\"AdaptiveTicker\",\"id\":\"p1032\",\"attributes\":{\"num_minor_ticks\":0,\"base\":24,\"mantissas\":[1,2,4,6,8,12],\"min_interval\":3600000.0,\"max_interval\":43200000.0}},{\"type\":\"object\",\"name\":\"DaysTicker\",\"id\":\"p1033\",\"attributes\":{\"days\":[1,2,3,4,5,6,7,8,9,10,11,12,13,14,15,16,17,18,19,20,21,22,23,24,25,26,27,28,29,30,31]}},{\"type\":\"object\",\"name\":\"DaysTicker\",\"id\":\"p1034\",\"attributes\":{\"days\":[1,4,7,10,13,16,19,22,25,28]}},{\"type\":\"object\",\"name\":\"DaysTicker\",\"id\":\"p1035\",\"attributes\":{\"days\":[1,8,15,22]}},{\"type\":\"object\",\"name\":\"DaysTicker\",\"id\":\"p1036\",\"attributes\":{\"days\":[1,15]}},{\"type\":\"object\",\"name\":\"MonthsTicker\",\"id\":\"p1037\",\"attributes\":{\"months\":[0,1,2,3,4,5,6,7,8,9,10,11]}},{\"type\":\"object\",\"name\":\"MonthsTicker\",\"id\":\"p1038\",\"attributes\":{\"months\":[0,2,4,6,8,10]}},{\"type\":\"object\",\"name\":\"MonthsTicker\",\"id\":\"p1039\",\"attributes\":{\"months\":[0,4,8]}},{\"type\":\"object\",\"name\":\"MonthsTicker\",\"id\":\"p1040\",\"attributes\":{\"months\":[0,6]}},{\"type\":\"object\",\"name\":\"YearsTicker\",\"id\":\"p1041\"}]}},\"formatter\":{\"type\":\"object\",\"name\":\"DatetimeTickFormatter\",\"id\":\"p1042\"},\"axis_label\":\"Date\",\"major_label_policy\":{\"type\":\"object\",\"name\":\"AllLabels\",\"id\":\"p1043\"}}}],\"center\":[{\"type\":\"object\",\"name\":\"Grid\",\"id\":\"p1044\",\"attributes\":{\"axis\":{\"id\":\"p1028\"},\"grid_line_color\":null}},{\"type\":\"object\",\"name\":\"Grid\",\"id\":\"p1049\",\"attributes\":{\"dimension\":1,\"axis\":{\"id\":\"p1045\"},\"grid_line_color\":null}}],\"min_border_top\":10,\"min_border_bottom\":10,\"min_border_left\":10,\"min_border_right\":10,\"output_backend\":\"webgl\"}},{\"type\":\"object\",\"name\":\"Spacer\",\"id\":\"p1073\",\"attributes\":{\"name\":\"HSpacer00946\",\"stylesheets\":[\"\\n:host(.pn-loading):before, .pn-loading:before {\\n  background-color: #c3c3c3;\\n  mask-size: auto calc(min(50%, 400px));\\n  -webkit-mask-size: auto calc(min(50%, 400px));\\n}\",{\"id\":\"p1007\"},{\"id\":\"p1005\"},{\"id\":\"p1006\"}],\"margin\":0,\"sizing_mode\":\"stretch_width\",\"align\":\"start\"}}]}}],\"defs\":[{\"type\":\"model\",\"name\":\"ReactiveHTML1\"},{\"type\":\"model\",\"name\":\"FlexBox1\",\"properties\":[{\"name\":\"align_content\",\"kind\":\"Any\",\"default\":\"flex-start\"},{\"name\":\"align_items\",\"kind\":\"Any\",\"default\":\"flex-start\"},{\"name\":\"flex_direction\",\"kind\":\"Any\",\"default\":\"row\"},{\"name\":\"flex_wrap\",\"kind\":\"Any\",\"default\":\"wrap\"},{\"name\":\"gap\",\"kind\":\"Any\",\"default\":\"\"},{\"name\":\"justify_content\",\"kind\":\"Any\",\"default\":\"flex-start\"}]},{\"type\":\"model\",\"name\":\"FloatPanel1\",\"properties\":[{\"name\":\"config\",\"kind\":\"Any\",\"default\":{\"type\":\"map\"}},{\"name\":\"contained\",\"kind\":\"Any\",\"default\":true},{\"name\":\"position\",\"kind\":\"Any\",\"default\":\"right-top\"},{\"name\":\"offsetx\",\"kind\":\"Any\",\"default\":null},{\"name\":\"offsety\",\"kind\":\"Any\",\"default\":null},{\"name\":\"theme\",\"kind\":\"Any\",\"default\":\"primary\"},{\"name\":\"status\",\"kind\":\"Any\",\"default\":\"normalized\"}]},{\"type\":\"model\",\"name\":\"GridStack1\",\"properties\":[{\"name\":\"mode\",\"kind\":\"Any\",\"default\":\"warn\"},{\"name\":\"ncols\",\"kind\":\"Any\",\"default\":null},{\"name\":\"nrows\",\"kind\":\"Any\",\"default\":null},{\"name\":\"allow_resize\",\"kind\":\"Any\",\"default\":true},{\"name\":\"allow_drag\",\"kind\":\"Any\",\"default\":true},{\"name\":\"state\",\"kind\":\"Any\",\"default\":[]}]},{\"type\":\"model\",\"name\":\"drag1\",\"properties\":[{\"name\":\"slider_width\",\"kind\":\"Any\",\"default\":5},{\"name\":\"slider_color\",\"kind\":\"Any\",\"default\":\"black\"},{\"name\":\"value\",\"kind\":\"Any\",\"default\":50}]},{\"type\":\"model\",\"name\":\"click1\",\"properties\":[{\"name\":\"terminal_output\",\"kind\":\"Any\",\"default\":\"\"},{\"name\":\"debug_name\",\"kind\":\"Any\",\"default\":\"\"},{\"name\":\"clears\",\"kind\":\"Any\",\"default\":0}]},{\"type\":\"model\",\"name\":\"FastWrapper1\",\"properties\":[{\"name\":\"object\",\"kind\":\"Any\",\"default\":null},{\"name\":\"style\",\"kind\":\"Any\",\"default\":null}]},{\"type\":\"model\",\"name\":\"NotificationAreaBase1\",\"properties\":[{\"name\":\"js_events\",\"kind\":\"Any\",\"default\":{\"type\":\"map\"}},{\"name\":\"position\",\"kind\":\"Any\",\"default\":\"bottom-right\"},{\"name\":\"_clear\",\"kind\":\"Any\",\"default\":0}]},{\"type\":\"model\",\"name\":\"NotificationArea1\",\"properties\":[{\"name\":\"js_events\",\"kind\":\"Any\",\"default\":{\"type\":\"map\"}},{\"name\":\"notifications\",\"kind\":\"Any\",\"default\":[]},{\"name\":\"position\",\"kind\":\"Any\",\"default\":\"bottom-right\"},{\"name\":\"_clear\",\"kind\":\"Any\",\"default\":0},{\"name\":\"types\",\"kind\":\"Any\",\"default\":[{\"type\":\"map\",\"entries\":[[\"type\",\"warning\"],[\"background\",\"#ffc107\"],[\"icon\",{\"type\":\"map\",\"entries\":[[\"className\",\"fas fa-exclamation-triangle\"],[\"tagName\",\"i\"],[\"color\",\"white\"]]}]]},{\"type\":\"map\",\"entries\":[[\"type\",\"info\"],[\"background\",\"#007bff\"],[\"icon\",{\"type\":\"map\",\"entries\":[[\"className\",\"fas fa-info-circle\"],[\"tagName\",\"i\"],[\"color\",\"white\"]]}]]}]}]},{\"type\":\"model\",\"name\":\"Notification\",\"properties\":[{\"name\":\"background\",\"kind\":\"Any\",\"default\":null},{\"name\":\"duration\",\"kind\":\"Any\",\"default\":3000},{\"name\":\"icon\",\"kind\":\"Any\",\"default\":null},{\"name\":\"message\",\"kind\":\"Any\",\"default\":\"\"},{\"name\":\"notification_type\",\"kind\":\"Any\",\"default\":null},{\"name\":\"_destroyed\",\"kind\":\"Any\",\"default\":false}]},{\"type\":\"model\",\"name\":\"TemplateActions1\",\"properties\":[{\"name\":\"open_modal\",\"kind\":\"Any\",\"default\":0},{\"name\":\"close_modal\",\"kind\":\"Any\",\"default\":0}]},{\"type\":\"model\",\"name\":\"BootstrapTemplateActions1\",\"properties\":[{\"name\":\"open_modal\",\"kind\":\"Any\",\"default\":0},{\"name\":\"close_modal\",\"kind\":\"Any\",\"default\":0}]},{\"type\":\"model\",\"name\":\"TemplateEditor1\",\"properties\":[{\"name\":\"layout\",\"kind\":\"Any\",\"default\":[]}]},{\"type\":\"model\",\"name\":\"MaterialTemplateActions1\",\"properties\":[{\"name\":\"open_modal\",\"kind\":\"Any\",\"default\":0},{\"name\":\"close_modal\",\"kind\":\"Any\",\"default\":0}]},{\"type\":\"model\",\"name\":\"copy_to_clipboard1\",\"properties\":[{\"name\":\"fill\",\"kind\":\"Any\",\"default\":\"none\"},{\"name\":\"value\",\"kind\":\"Any\",\"default\":null}]}]}};\n",
              "  var render_items = [{\"docid\":\"9a1a2bd9-5023-433a-9303-48a608eed219\",\"roots\":{\"p1004\":\"c8b2841e-0cae-4701-89ec-3a2eaceaf378\"},\"root_ids\":[\"p1004\"]}];\n",
              "  var docs = Object.values(docs_json)\n",
              "  if (!docs) {\n",
              "    return\n",
              "  }\n",
              "  const py_version = docs[0].version.replace('rc', '-rc.').replace('.dev', '-dev.')\n",
              "  async function embed_document(root) {\n",
              "    var Bokeh = get_bokeh(root)\n",
              "    await Bokeh.embed.embed_items_notebook(docs_json, render_items);\n",
              "    for (const render_item of render_items) {\n",
              "      for (const root_id of render_item.root_ids) {\n",
              "\tconst id_el = document.getElementById(root_id)\n",
              "\tif (id_el.children.length && id_el.children[0].hasAttribute('data-root-id')) {\n",
              "\t  const root_el = id_el.children[0]\n",
              "\t  root_el.id = root_el.id + '-rendered'\n",
              "\t  for (const child of root_el.children) {\n",
              "            // Ensure JupyterLab does not capture keyboard shortcuts\n",
              "            // see: https://jupyterlab.readthedocs.io/en/4.1.x/extension/notebook.html#keyboard-interaction-model\n",
              "\t    child.setAttribute('data-lm-suppress-shortcuts', 'true')\n",
              "\t  }\n",
              "\t}\n",
              "      }\n",
              "    }\n",
              "  }\n",
              "  function get_bokeh(root) {\n",
              "    if (root.Bokeh === undefined) {\n",
              "      return null\n",
              "    } else if (root.Bokeh.version !== py_version) {\n",
              "      if (root.Bokeh.versions === undefined || !root.Bokeh.versions.has(py_version)) {\n",
              "\treturn null\n",
              "      }\n",
              "      return root.Bokeh.versions.get(py_version);\n",
              "    } else if (root.Bokeh.version === py_version) {\n",
              "      return root.Bokeh\n",
              "    }\n",
              "    return null\n",
              "  }\n",
              "  function is_loaded(root) {\n",
              "    var Bokeh = get_bokeh(root)\n",
              "    return (Bokeh != null && Bokeh.Panel !== undefined)\n",
              "  }\n",
              "  if (is_loaded(root)) {\n",
              "    embed_document(root);\n",
              "  } else {\n",
              "    var attempts = 0;\n",
              "    var timer = setInterval(function(root) {\n",
              "      if (is_loaded(root)) {\n",
              "        clearInterval(timer);\n",
              "        embed_document(root);\n",
              "      } else if (document.readyState == \"complete\") {\n",
              "        attempts++;\n",
              "        if (attempts > 200) {\n",
              "          clearInterval(timer);\n",
              "\t  var Bokeh = get_bokeh(root)\n",
              "\t  if (Bokeh == null || Bokeh.Panel == null) {\n",
              "            console.warn(\"Panel: ERROR: Unable to run Panel code because Bokeh or Panel library is missing\");\n",
              "\t  } else {\n",
              "\t    console.warn(\"Panel: WARNING: Attempting to render but not all required libraries could be resolved.\")\n",
              "\t    embed_document(root)\n",
              "\t  }\n",
              "        }\n",
              "      }\n",
              "    }, 25, root)\n",
              "  }\n",
              "})(window);</script>"
            ],
            "text/plain": [
              ":Curve   [Date]   (Search Trends)"
            ]
          },
          "execution_count": 5,
          "metadata": {
            "application/vnd.holoviews_exec.v0+json": {
              "id": "p1004"
            }
          },
          "output_type": "execute_result"
        }
      ],
      "source": [
        "# Slice the DataFrame to just the month of May 2020\n",
        "search_date = '2020-05'\n",
        "\n",
        "df_trends_may_2020 = df_mercado_trends.loc[search_date]\n",
        "\n",
        "# Plot to visualize the data for May 2020\n",
        "df_trends_may_2020.hvplot(\n",
        "    title=\"Google Hourly Search Trends for May 2020\",\n",
        "    xlabel=\"Date\",\n",
        "    ylabel=\"Search Trend\",\n",
        "    width=1500,\n",
        "    height=500,\n",
        ")"
      ]
    },
    {
      "cell_type": "markdown",
      "metadata": {
        "id": "eo9y14TY12UA"
      },
      "source": [
        "#### Step 2: Calculate the total search traffic for the month, and then compare the value to the monthly median across all months. Did the Google search traffic increase during the month that MercadoLibre released its financial results?"
      ]
    },
    {
      "cell_type": "code",
      "execution_count": 6,
      "metadata": {
        "colab": {
          "base_uri": "https://localhost:8080/"
        },
        "id": "EimOMwen12UA",
        "outputId": "81f8d5f4-3f73-46d6-ff49-ec66d03cd397"
      },
      "outputs": [
        {
          "data": {
            "text/plain": [
              "Search Trends    38181\n",
              "dtype: int64"
            ]
          },
          "execution_count": 6,
          "metadata": {},
          "output_type": "execute_result"
        }
      ],
      "source": [
        "# Calculate the sum of the total search traffic for May 2020\n",
        "traffic_may_2020 = df_trends_may_2020.sum()\n",
        "\n",
        "\n",
        "# View the traffic_may_2020 value\n",
        "traffic_may_2020"
      ]
    },
    {
      "cell_type": "code",
      "execution_count": 14,
      "metadata": {
        "colab": {
          "base_uri": "https://localhost:8080/"
        },
        "id": "w4B9WQ2O12UB",
        "outputId": "759dbba7-8f9f-4ac6-9bac-a4cc539a5a52"
      },
      "outputs": [
        {
          "data": {
            "text/plain": [
              "Search Trends    35172.5\n",
              "dtype: float64"
            ]
          },
          "execution_count": 14,
          "metadata": {},
          "output_type": "execute_result"
        }
      ],
      "source": [
        "# Calcluate the monthly median search traffic across all months\n",
        "# Group the DataFrame by index year and then index month, chain the sum and then the median functions\n",
        "median_monthly_traffic = df_mercado_trends.groupby([df_mercado_trends.index.year, df_mercado_trends.index.month]).sum().median()\n",
        "\n",
        "# View the median_monthly_traffic value\n",
        "median_monthly_traffic"
      ]
    },
    {
      "cell_type": "code",
      "execution_count": 15,
      "metadata": {
        "colab": {
          "base_uri": "https://localhost:8080/"
        },
        "id": "SaUKnq1e12UB",
        "outputId": "7627f58e-c748-48a3-a392-836aa3dcf7bd"
      },
      "outputs": [
        {
          "data": {
            "text/plain": [
              "Search Trends    1.085536\n",
              "dtype: float64"
            ]
          },
          "execution_count": 15,
          "metadata": {},
          "output_type": "execute_result"
        }
      ],
      "source": [
        "# Compare the seach traffic for the month of May 2020 to the overall monthly median value\n",
        "traffic_may_2020 / median_monthly_traffic"
      ]
    },
    {
      "cell_type": "markdown",
      "metadata": {
        "id": "8FzTTGQ-12UC"
      },
      "source": [
        "##### Answer the following question:"
      ]
    },
    {
      "cell_type": "markdown",
      "metadata": {
        "id": "UG979D-v12UC"
      },
      "source": [
        "**Question:** Did the Google search traffic increase during the month that MercadoLibre released its financial results?\n",
        "\n",
        "**Answer:**"
      ]
    },
    {
      "cell_type": "markdown",
      "metadata": {
        "id": "xvwtfvC112UC"
      },
      "source": [
        "## Step 2: Mine the Search Traffic Data for Seasonality\n",
        "\n",
        "Marketing realizes that they can use the hourly search data, too. If they can track and predict interest in the company and its platform for any time of day, they can focus their marketing efforts around the times that have the most traffic. This will get a greater return on investment (ROI) from their marketing budget.\n",
        "\n",
        "To that end, you want to mine the search traffic data for predictable seasonal patterns of interest in the company. To do so, complete the following steps:\n",
        "\n",
        "1. Group the hourly search data to plot the average traffic by the hour of day. Does the search traffic peak at a particular time of day or is it relatively consistent?\n",
        "\n",
        "2. Group the hourly search data to plot the average traffic by the day of the week (for example, Monday vs. Friday). Does the search traffic get busiest on any particular day of the week?\n",
        "\n",
        "3. Group the hourly search data to plot the average traffic by the week of the year. Does the search traffic tend to increase during the winter holiday period (weeks 40 through 52)?\n"
      ]
    },
    {
      "cell_type": "markdown",
      "metadata": {
        "id": "ry-VzN48g7Ru"
      },
      "source": [
        "#### Step 1: Group the hourly search data to plot the average traffic by the hour of the day."
      ]
    },
    {
      "cell_type": "code",
      "execution_count": null,
      "metadata": {
        "colab": {
          "base_uri": "https://localhost:8080/",
          "height": 466
        },
        "id": "gPxzc3Tmg7Ru",
        "outputId": "3748b4e7-880a-4935-ef93-13fd835c0d1d"
      },
      "outputs": [],
      "source": [
        "# Group the hourly search data to plot the average traffic by the day of week, using `df.index.hour`\n"
      ]
    },
    {
      "cell_type": "markdown",
      "metadata": {
        "id": "fBoKE-Kx12UC"
      },
      "source": [
        "#### Step 2: Group the hourly search data to plot the average traffic by the day of the week (for example, Monday vs. Friday)."
      ]
    },
    {
      "cell_type": "code",
      "execution_count": null,
      "metadata": {
        "colab": {
          "base_uri": "https://localhost:8080/",
          "height": 466
        },
        "id": "c3z3n5Mg12UD",
        "outputId": "c285c09e-eb2b-4dfe-d35c-3ec77136197c"
      },
      "outputs": [],
      "source": [
        "# Group the hourly search data to plot the average traffic by the day of week, using `df.index.isocalendar().day`.\n"
      ]
    },
    {
      "cell_type": "markdown",
      "metadata": {
        "id": "xm3gLNVRg7Rv"
      },
      "source": [
        "#### Step 3: Group the hourly search data to plot the average traffic by the week of the year."
      ]
    },
    {
      "cell_type": "code",
      "execution_count": null,
      "metadata": {
        "colab": {
          "base_uri": "https://localhost:8080/",
          "height": 466
        },
        "id": "C8YtZOJTg7Rv",
        "outputId": "f70f8263-0297-48ca-82b4-51b094f51924"
      },
      "outputs": [],
      "source": [
        "# Group the hourly search data to plot the average traffic by the week of the year using `df.index.isocalendar().week`.\n"
      ]
    },
    {
      "cell_type": "markdown",
      "metadata": {
        "id": "U8rZ9rS612UE"
      },
      "source": [
        "##### Answer the following question:"
      ]
    },
    {
      "cell_type": "markdown",
      "metadata": {
        "id": "ZneaiiW-12UE"
      },
      "source": [
        "**Question:** Are there any time based trends that you can see in the data?\n",
        "\n",
        "**Answer:**"
      ]
    },
    {
      "cell_type": "markdown",
      "metadata": {
        "id": "fI9MdNR512UG"
      },
      "source": [
        "## Step 3: Relate the Search Traffic to Stock Price Patterns\n",
        "\n",
        "You mention your work on the search traffic data during a meeting with people in the finance group at the company. They want to know if any relationship between the search data and the company stock price exists, and they ask if you can investigate.\n",
        "\n",
        "To do so, complete the following steps:\n",
        "\n",
        "1. Read in and plot the stock price data. Concatenate the stock price data to the search data in a single DataFrame.\n",
        "\n",
        "2. Market events emerged during the year of 2020 that many companies found difficult. But, after the initial shock to global financial markets, new customers and revenue increased for e-commerce platforms. Slice the data to just the first half of 2020 (`2020-01` to `2020-06` in the DataFrame), and then plot the data. Do both time series indicate a common trend that’s consistent with this narrative?\n",
        "\n",
        "3. Create a new column in the DataFrame named “Lagged Search Trends” that offsets, or shifts, the search traffic by one hour. Create two additional columns:\n",
        "\n",
        "    * “Stock Volatility”, which holds an exponentially weighted four-hour rolling average of the company’s stock volatility\n",
        "\n",
        "    * “Hourly Stock Return”, which holds the percent change of the company's stock price on an hourly basis\n",
        "\n",
        "4. Review the time series correlation, and then answer the following question: Does a predictable relationship exist between the lagged search traffic and the stock volatility or between the lagged search traffic and the stock price returns?\n"
      ]
    },
    {
      "cell_type": "markdown",
      "metadata": {
        "id": "OqkIVUU_12UG"
      },
      "source": [
        "#### Step 1: Read in and plot the stock price data. Concatenate the stock price data to the search data in a single DataFrame."
      ]
    },
    {
      "cell_type": "code",
      "execution_count": null,
      "metadata": {
        "colab": {
          "base_uri": "https://localhost:8080/",
          "height": 458
        },
        "id": "rKAzc9ew12UG",
        "outputId": "2876a18c-0003-4313-8920-e8fb5ce9eeb5"
      },
      "outputs": [],
      "source": [
        "# Upload the \"mercado_stock_price.csv\" file into Colab, then store in a Pandas DataFrame\n",
        "# Set the \"date\" column as the Datetime Index.\n",
        "df_mercado_stock = pd.read_csv(\n",
        "    \"https://static.bc-edx.com/ai/ail-v-1-0/m8/lms/datasets/mercado_stock_price.csv\",\n",
        "    index_col=\"date\",\n",
        "    parse_dates=True\n",
        ").dropna()\n",
        "\n",
        "# View the first and last five rows of the DataFrame\n",
        "display(df_mercado_stock.head())\n",
        "display(df_mercado_stock.tail())"
      ]
    },
    {
      "cell_type": "code",
      "execution_count": null,
      "metadata": {
        "colab": {
          "base_uri": "https://localhost:8080/",
          "height": 439
        },
        "id": "gPMCkpIB12UH",
        "outputId": "e6c02dd8-2103-4409-9b2c-6536f4300e37"
      },
      "outputs": [],
      "source": [
        "# Visualize the closing price of the df_mercado_stock DataFrame\n"
      ]
    },
    {
      "cell_type": "code",
      "execution_count": null,
      "metadata": {
        "colab": {
          "base_uri": "https://localhost:8080/",
          "height": 395
        },
        "id": "5Mt44bD512UH",
        "outputId": "b29ca9e3-39fb-4a26-ebc0-ad16a101c02d"
      },
      "outputs": [],
      "source": [
        "# Concatenate the df_mercado_stock DataFrame with the df_mercado_trends DataFrame\n",
        "# Concatenate the DataFrame by columns (axis=1), and drop and rows with only one column of data\n",
        "\n",
        "\n",
        "# View the first and last five rows of the DataFrame\n"
      ]
    },
    {
      "cell_type": "markdown",
      "metadata": {
        "id": "aWaMSI4U12UI"
      },
      "source": [
        "#### Step 2: Market events emerged during the year of 2020 that many companies found difficult. But, after the initial shock to global financial markets, new customers and revenue increased for e-commerce platforms. Slice the data to just the first half of 2020 (`2020-01` to `2020-06` in the DataFrame), and then plot the data. Do both time series indicate a common trend that’s consistent with this narrative?"
      ]
    },
    {
      "cell_type": "code",
      "execution_count": null,
      "metadata": {
        "colab": {
          "base_uri": "https://localhost:8080/",
          "height": 395
        },
        "id": "1KTYdkfK12UI",
        "outputId": "abc46b47-dfe7-43f7-c86f-0a35e0065648"
      },
      "outputs": [],
      "source": [
        "# For the combined dataframe, slice to just the first half of 2020 (2020-01 through 2020-06)\n",
        "\n",
        "\n",
        "# View the first and last five rows of first_half_2020 DataFrame\n"
      ]
    },
    {
      "cell_type": "code",
      "execution_count": null,
      "metadata": {
        "colab": {
          "base_uri": "https://localhost:8080/",
          "height": 431
        },
        "id": "bynt-3QV12UI",
        "outputId": "1ba07056-6e49-404e-80e4-13af50b7a3a1"
      },
      "outputs": [],
      "source": [
        "# Visualize the close and Search Trends data\n",
        "# Plot each column on a separate axes using the following syntax\n",
        "# `plot(subplots=True)`\n"
      ]
    },
    {
      "cell_type": "markdown",
      "metadata": {
        "id": "qnrxcTZT12UI"
      },
      "source": [
        "##### Answer the following question:"
      ]
    },
    {
      "cell_type": "markdown",
      "metadata": {
        "id": "vBkC9MNX12UJ"
      },
      "source": [
        "**Question:** Do both time series indicate a common trend that’s consistent with this narrative?\n",
        "\n",
        "**Answer:**"
      ]
    },
    {
      "cell_type": "markdown",
      "metadata": {
        "id": "8MDbU6SD12UJ"
      },
      "source": [
        "#### Step 3: Create a new column in the DataFrame named “Lagged Search Trends” that offsets, or shifts, the search traffic by one hour. Create two additional columns:\n",
        "\n",
        "* “Stock Volatility”, which holds an exponentially weighted four-hour rolling average of the company’s stock volatility\n",
        "\n",
        "* “Hourly Stock Return”, which holds the percent change of the company's stock price on an hourly basis\n"
      ]
    },
    {
      "cell_type": "code",
      "execution_count": null,
      "metadata": {
        "id": "nNFBId1812UJ"
      },
      "outputs": [],
      "source": [
        "# Create a new column in the mercado_stock_trends_df DataFrame called Lagged Search Trends\n",
        "# This column should shift the Search Trends information by one hour\n",
        "\n"
      ]
    },
    {
      "cell_type": "code",
      "execution_count": null,
      "metadata": {
        "id": "ySKeTjVY12UJ"
      },
      "outputs": [],
      "source": [
        "# Create a new column in the mercado_stock_trends_df DataFrame called Stock Volatility\n",
        "# This column should calculate the standard deviation of the closing stock price return data over a 4 period rolling window\n",
        "\n"
      ]
    },
    {
      "cell_type": "code",
      "execution_count": null,
      "metadata": {
        "colab": {
          "base_uri": "https://localhost:8080/",
          "height": 431
        },
        "id": "jIJOEdlS12UJ",
        "outputId": "11af3fae-93d7-4069-8feb-a0fdb40ab044"
      },
      "outputs": [],
      "source": [
        "# Visualize the stock volatility\n",
        "\n"
      ]
    },
    {
      "cell_type": "markdown",
      "metadata": {
        "id": "FffeBt-w12UK"
      },
      "source": [
        "**Solution Note:** Note how volatility spiked, and tended to stay high, during the first half of 2020. This is a common characteristic of volatility in stock returns worldwide: high volatility days tend to be followed by yet more high volatility days. When it rains, it pours."
      ]
    },
    {
      "cell_type": "code",
      "execution_count": null,
      "metadata": {
        "id": "nRBDj-I012UK"
      },
      "outputs": [],
      "source": [
        "# Create a new column in the mercado_stock_trends_df DataFrame called Hourly Stock Return\n",
        "# This column should calculate hourly return percentage of the closing price\n",
        "\n"
      ]
    },
    {
      "cell_type": "code",
      "execution_count": null,
      "metadata": {
        "colab": {
          "base_uri": "https://localhost:8080/",
          "height": 395
        },
        "id": "e8_dQ_tT12UK",
        "outputId": "57056cc1-c27a-43d5-8cc4-a38d6b86b764"
      },
      "outputs": [],
      "source": [
        "# View the first and last five rows of the mercado_stock_trends_df DataFrame\n"
      ]
    },
    {
      "cell_type": "markdown",
      "metadata": {
        "id": "0ijd-NMF12UK"
      },
      "source": [
        "#### Step 4: Review the time series correlation, and then answer the following question: Does a predictable relationship exist between the lagged search traffic and the stock volatility or between the lagged search traffic and the stock price returns?"
      ]
    },
    {
      "cell_type": "code",
      "execution_count": null,
      "metadata": {
        "colab": {
          "base_uri": "https://localhost:8080/",
          "height": 143
        },
        "id": "SBTDo89212UK",
        "outputId": "7412d411-6c99-486a-8e25-96c0401ad06c"
      },
      "outputs": [],
      "source": [
        "# Construct correlation table of Stock Volatility, Lagged Search Trends, and Hourly Stock Return\n",
        "mercado_stock_trends_df[['Stock Volatility', 'Lagged Search Trends', 'Hourly Stock Return']].corr()"
      ]
    },
    {
      "cell_type": "markdown",
      "metadata": {
        "id": "h-GH17Lx12UL"
      },
      "source": [
        "##### Answer the following question:\n"
      ]
    },
    {
      "cell_type": "markdown",
      "metadata": {
        "id": "VDe24Tla12UL"
      },
      "source": [
        "**Question:** Does a predictable relationship exist between the lagged search traffic and the stock volatility or between the lagged search traffic and the stock price returns?\n",
        "\n",
        "**Answer:**"
      ]
    },
    {
      "cell_type": "markdown",
      "metadata": {
        "id": "0pK2MFUk12UL"
      },
      "source": [
        "## Step 4: Create a Time Series Model with Prophet\n",
        "\n",
        "Now, you need to produce a time series model that analyzes and forecasts patterns in the hourly search data. To do so, complete the following steps:\n",
        "\n",
        "1. Set up the Google search data for a Prophet forecasting model.\n",
        "\n",
        "2. After estimating the model, plot the forecast. How's the near-term forecast for the popularity of MercadoLibre?\n",
        "\n",
        "3. Plot the individual time series components of the model to answer the following questions:\n",
        "\n",
        "    * What time of day exhibits the greatest popularity?\n",
        "\n",
        "    * Which day of the week gets the most search traffic?\n",
        "\n",
        "    * What's the lowest point for search traffic in the calendar year?\n"
      ]
    },
    {
      "cell_type": "markdown",
      "metadata": {
        "id": "jBewkPew12UL"
      },
      "source": [
        "#### Step 1: Set up the Google search data for a Prophet forecasting model."
      ]
    },
    {
      "cell_type": "code",
      "execution_count": null,
      "metadata": {
        "colab": {
          "base_uri": "https://localhost:8080/",
          "height": 395
        },
        "id": "NQ69E7pl12UL",
        "outputId": "8819397a-adfc-4090-ad50-26e78e8d4544"
      },
      "outputs": [],
      "source": [
        "# Using the df_mercado_trends DataFrame, reset the index so the date information is no longer the index\n",
        "\n",
        "\n",
        "# Label the columns ds and y so that the syntax is recognized by Prophet\n",
        "\n",
        "\n",
        "# Drop an NaN values from the prophet_df DataFrame\n",
        "\n",
        "\n",
        "# View the first and last five rows of the mercado_prophet_df DataFrame\n"
      ]
    },
    {
      "cell_type": "code",
      "execution_count": null,
      "metadata": {
        "colab": {
          "base_uri": "https://localhost:8080/"
        },
        "id": "tXemEAJm12UM",
        "outputId": "47f620df-103b-4bd6-f312-1f49167c6379"
      },
      "outputs": [],
      "source": [
        "# Call the Prophet function, store as an object\n"
      ]
    },
    {
      "cell_type": "code",
      "execution_count": null,
      "metadata": {
        "colab": {
          "base_uri": "https://localhost:8080/"
        },
        "id": "9bou0iwL12UM",
        "outputId": "13d25545-2160-4132-e897-54d86d2e381d"
      },
      "outputs": [],
      "source": [
        "# Fit the time-series model.\n"
      ]
    },
    {
      "cell_type": "code",
      "execution_count": null,
      "metadata": {
        "colab": {
          "base_uri": "https://localhost:8080/",
          "height": 206
        },
        "id": "BtJ5oDPE12UM",
        "outputId": "d37d2945-bf00-4f23-cf4f-c351037c0777"
      },
      "outputs": [],
      "source": [
        "# Create a future dataframe to hold predictions\n",
        "# Make the prediction go out as far as 2000 hours (approx 80 days)\n",
        "\n",
        "\n",
        "# View the last five rows of the future_mercado_trends DataFrame\n"
      ]
    },
    {
      "cell_type": "code",
      "execution_count": null,
      "metadata": {
        "colab": {
          "base_uri": "https://localhost:8080/",
          "height": 429
        },
        "id": "-JVSYE6C12UN",
        "outputId": "54f181cf-7915-48a3-e353-4d099824b144"
      },
      "outputs": [],
      "source": [
        "# Make the predictions for the trend data using the future_mercado_trends DataFrame\n",
        "\n",
        "\n",
        "# Display the first five rows of the forecast_mercado_trends DataFrame\n"
      ]
    },
    {
      "cell_type": "markdown",
      "metadata": {
        "id": "l5jjK41T12UN"
      },
      "source": [
        "#### Step 2: After estimating the model, plot the forecast. How's the near-term forecast for the popularity of MercadoLibre?"
      ]
    },
    {
      "cell_type": "code",
      "execution_count": null,
      "metadata": {
        "colab": {
          "base_uri": "https://localhost:8080/",
          "height": 1000
        },
        "id": "wNf28QS212UN",
        "outputId": "e288e54e-d68a-4c4b-d347-0cb668ce0cc8"
      },
      "outputs": [],
      "source": [
        "# Plot the Prophet predictions for the Mercado trends data\n"
      ]
    },
    {
      "cell_type": "markdown",
      "metadata": {
        "id": "p3twBdEn12UO"
      },
      "source": [
        "##### Answer the following question:"
      ]
    },
    {
      "cell_type": "markdown",
      "metadata": {
        "id": "CDsZWZwE12UO"
      },
      "source": [
        "**Question:**  How's the near-term forecast for the popularity of MercadoLibre?\n",
        "\n",
        "**Answer:**\n"
      ]
    },
    {
      "cell_type": "markdown",
      "metadata": {
        "id": "MY3-VMd612UO"
      },
      "source": [
        "#### Step 3: Plot the individual time series components of the model to answer the following questions:\n",
        "\n",
        "* What time of day exhibits the greatest popularity?\n",
        "\n",
        "* Which day of the week gets the most search traffic?\n",
        "\n",
        "* What's the lowest point for search traffic in the calendar year?\n"
      ]
    },
    {
      "cell_type": "code",
      "execution_count": null,
      "metadata": {
        "colab": {
          "base_uri": "https://localhost:8080/",
          "height": 238
        },
        "id": "4r31Spg-12UO",
        "outputId": "ed4144f0-6b12-416f-80a3-856374bdf07a"
      },
      "outputs": [],
      "source": [
        "# Set the index in the forecast_mercado_trends DataFrame to the ds datetime column\n",
        "\n",
        "\n",
        "# View the only the yhat,yhat_lower and yhat_upper columns from the DataFrame\n",
        "\n"
      ]
    },
    {
      "cell_type": "markdown",
      "metadata": {
        "id": "LSAl_1m812UO"
      },
      "source": [
        "Solutions Note: `yhat` represents the most likely (average) forecast, whereas `yhat_lower` and `yhat_upper` represents the worst and best case prediction (based on what are known as 95% confidence intervals)."
      ]
    },
    {
      "cell_type": "code",
      "execution_count": null,
      "metadata": {
        "colab": {
          "base_uri": "https://localhost:8080/",
          "height": 515
        },
        "id": "qYJDjsb312UP",
        "outputId": "727a167e-5a14-4e40-d9fd-26d2e0641834"
      },
      "outputs": [],
      "source": [
        "# From the forecast_mercado_trends DataFrame, plot the data to visualize\n",
        "#  the yhat, yhat_lower, and yhat_upper columns over the last 2000 hours\n"
      ]
    },
    {
      "cell_type": "code",
      "execution_count": null,
      "metadata": {
        "colab": {
          "base_uri": "https://localhost:8080/",
          "height": 1000
        },
        "id": "eetFbEwC12UP",
        "outputId": "ff17c006-d793-4337-afbc-15a2df1d8523"
      },
      "outputs": [],
      "source": [
        "# Reset the index in the forecast_mercado_trends DataFrame\n",
        "\n",
        "\n",
        "# Use the plot_components function to visualize the forecast results\n",
        "# for the forecast_mercado_trends DataFrame\n"
      ]
    },
    {
      "cell_type": "markdown",
      "metadata": {
        "id": "Xan9nO9O12UP"
      },
      "source": [
        "##### Answer the following questions:"
      ]
    },
    {
      "cell_type": "markdown",
      "metadata": {
        "id": "FmWgULWo12UQ"
      },
      "source": [
        "**Question:** What time of day exhibits the greatest popularity?\n",
        "\n",
        "**Answer:**"
      ]
    },
    {
      "cell_type": "markdown",
      "metadata": {
        "id": "JkkXUATk12UQ"
      },
      "source": [
        "**Question:** Which day of week gets the most search traffic?\n",
        "   \n",
        "**Answer:**"
      ]
    },
    {
      "cell_type": "markdown",
      "metadata": {
        "id": "EUeR3iHu12UQ"
      },
      "source": [
        "**Question:** What's the lowest point for search traffic in the calendar year?\n",
        "\n",
        "**Answer:**\n"
      ]
    }
  ],
  "metadata": {
    "colab": {
      "provenance": []
    },
    "kernelspec": {
      "display_name": "Python 3 (ipykernel)",
      "language": "python",
      "name": "python3"
    },
    "language_info": {
      "codemirror_mode": {
        "name": "ipython",
        "version": 3
      },
      "file_extension": ".py",
      "mimetype": "text/x-python",
      "name": "python",
      "nbconvert_exporter": "python",
      "pygments_lexer": "ipython3",
      "version": "3.10.14"
    }
  },
  "nbformat": 4,
  "nbformat_minor": 0
}
